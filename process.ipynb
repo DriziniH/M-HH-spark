{
 "metadata": {
  "language_info": {
   "codemirror_mode": {
    "name": "ipython",
    "version": 3
   },
   "file_extension": ".py",
   "mimetype": "text/x-python",
   "name": "python",
   "nbconvert_exporter": "python",
   "pygments_lexer": "ipython3",
   "version": "3.7.9-final"
  },
  "orig_nbformat": 2,
  "kernelspec": {
   "name": "python3",
   "display_name": "Python 3",
   "language": "python"
  }
 },
 "nbformat": 4,
 "nbformat_minor": 2,
 "cells": [
  {
   "cell_type": "code",
   "execution_count": 4,
   "metadata": {},
   "outputs": [],
   "source": [
    "import pandas as pd\n",
    "from pyspark.sql import SparkSession\n",
    "\n",
    "from src.utility import io\n",
    "from src.utility import format_conversion"
   ]
  },
  {
   "cell_type": "code",
   "execution_count": null,
   "metadata": {},
   "outputs": [],
   "source": [
    "#Silence spark logger\n",
    "import logging\n",
    "s_logger = logging.getLogger('py4j.java_gateway')\n",
    "s_logger.setLevel(logging.ERROR) "
   ]
  },
  {
   "cell_type": "code",
   "execution_count": 32,
   "metadata": {},
   "outputs": [
    {
     "output_type": "stream",
     "name": "stderr",
     "text": [
      "01/28/2021 03:00:03 PM | DEBUG : Command to send: c\n",
      "o22\n",
      "sessionState\n",
      "e\n",
      "\n",
      "01/28/2021 03:00:03 PM | DEBUG : Answer received: !yro212\n",
      "01/28/2021 03:00:03 PM | DEBUG : Command to send: c\n",
      "o212\n",
      "conf\n",
      "e\n",
      "\n",
      "01/28/2021 03:00:03 PM | DEBUG : Answer received: !yro213\n",
      "01/28/2021 03:00:03 PM | DEBUG : Command to send: c\n",
      "o213\n",
      "setConfString\n",
      "sspark.app.name\n",
      "sPython Spark\n",
      "e\n",
      "\n",
      "01/28/2021 03:00:03 PM | DEBUG : Answer received: !yv\n",
      "01/28/2021 03:00:03 PM | DEBUG : Command to send: c\n",
      "o12\n",
      "setLogLevel\n",
      "sWARN\n",
      "e\n",
      "\n",
      "01/28/2021 03:00:03 PM | DEBUG : Answer received: !yv\n"
     ]
    }
   ],
   "source": [
    "#Create spark session\n",
    "spark = SparkSession.builder.appName(\"Python Spark\").getOrCreate()\n",
    "sc =spark.sparkContext"
   ]
  },
  {
   "cell_type": "code",
   "execution_count": 33,
   "metadata": {},
   "outputs": [],
   "source": [
    "parquet_file = r\"C:\\Showcase\\Projekt\\M-HH-spark\\data-lake\\S3-eu_landing\\json\\year=2021\\month=1\\day=28\\car-eu-sample.json\"\n",
    "destination = r'C:\\Showcase\\Projekt\\M-HH-spark\\data-lake\\S3-eu_consumer'"
   ]
  },
  {
   "cell_type": "code",
   "execution_count": 34,
   "metadata": {
    "tags": []
   },
   "outputs": [
    {
     "output_type": "error",
     "ename": "TypeError",
     "evalue": "json_lines_to_parquet() takes 1 positional argument but 2 were given",
     "traceback": [
      "\u001b[1;31m---------------------------------------------------------------------------\u001b[0m",
      "\u001b[1;31mTypeError\u001b[0m                                 Traceback (most recent call last)",
      "\u001b[1;32m<ipython-input-34-d4abbadd28f5>\u001b[0m in \u001b[0;36m<module>\u001b[1;34m\u001b[0m\n\u001b[0;32m      1\u001b[0m \u001b[1;31m#Read data and create df\u001b[0m\u001b[1;33m\u001b[0m\u001b[1;33m\u001b[0m\u001b[1;33m\u001b[0m\u001b[0m\n\u001b[1;32m----> 2\u001b[1;33m \u001b[0mpdf\u001b[0m \u001b[1;33m=\u001b[0m \u001b[0mformat_conversion\u001b[0m\u001b[1;33m.\u001b[0m\u001b[0mjson_lines_to_parquet\u001b[0m\u001b[1;33m(\u001b[0m\u001b[0mjson_file\u001b[0m\u001b[1;33m,\u001b[0m \u001b[1;32mTrue\u001b[0m\u001b[1;33m)\u001b[0m\u001b[1;33m\u001b[0m\u001b[1;33m\u001b[0m\u001b[0m\n\u001b[0m\u001b[0;32m      3\u001b[0m \u001b[0mdf\u001b[0m \u001b[1;33m=\u001b[0m \u001b[0mspark\u001b[0m\u001b[1;33m.\u001b[0m\u001b[0mcreateDataFrame\u001b[0m\u001b[1;33m(\u001b[0m\u001b[0mpdf\u001b[0m\u001b[1;33m)\u001b[0m\u001b[1;33m\u001b[0m\u001b[1;33m\u001b[0m\u001b[0m\n\u001b[0;32m      4\u001b[0m \u001b[0mdf\u001b[0m\u001b[1;33m.\u001b[0m\u001b[0mprintSchema\u001b[0m\u001b[1;33m(\u001b[0m\u001b[1;33m)\u001b[0m\u001b[1;33m\u001b[0m\u001b[1;33m\u001b[0m\u001b[0m\n",
      "\u001b[1;31mTypeError\u001b[0m: json_lines_to_parquet() takes 1 positional argument but 2 were given"
     ]
    }
   ],
   "source": [
    "#Read data and create df\n",
    "pdf = format_conversion.json_lines_to_parquet(json_file, True)\n",
    "df = spark.createDataFrame(pdf)\n",
    "df.printSchema()"
   ]
  },
  {
   "cell_type": "code",
   "execution_count": null,
   "metadata": {},
   "outputs": [],
   "source": [
    "#Process data here"
   ]
  },
  {
   "cell_type": "code",
   "execution_count": 23,
   "metadata": {
    "tags": []
   },
   "outputs": [
    {
     "output_type": "stream",
     "name": "stderr",
     "text": [
      "01/28/2021 02:52:30 PM | DEBUG : Command to send: c\n",
      "o176\n",
      "count\n",
      "e\n",
      "\n",
      "01/28/2021 02:52:35 PM | DEBUG : Answer received: !yL13\n",
      "13\n"
     ]
    }
   ],
   "source": [
    "#Persist data to consumer bucket - data ready for consumption\n",
    "io.write_partitioned_parquet_from_pandas(df.toPandas(), destination, partition_cols=[\"year\",\"month\",\"day\"]):"
   ]
  }
 ]
}